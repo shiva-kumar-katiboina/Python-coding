{
 "cells": [
  {
   "cell_type": "markdown",
   "id": "5440384f",
   "metadata": {},
   "source": [
    "### Question_1:\n",
    "    Write a python program to convert a string to lower case"
   ]
  },
  {
   "cell_type": "code",
   "execution_count": 64,
   "id": "1005708b",
   "metadata": {},
   "outputs": [],
   "source": [
    "string = 'PYTHON'"
   ]
  },
  {
   "cell_type": "code",
   "execution_count": 65,
   "id": "62deba5e",
   "metadata": {},
   "outputs": [
    {
     "data": {
      "text/plain": [
       "'python'"
      ]
     },
     "execution_count": 65,
     "metadata": {},
     "output_type": "execute_result"
    }
   ],
   "source": [
    "string.lower()"
   ]
  },
  {
   "cell_type": "markdown",
   "id": "369ca910",
   "metadata": {},
   "source": [
    "### Question_2:\n",
    "    Write a python program to convert only odd indexed characters to lower case"
   ]
  },
  {
   "cell_type": "code",
   "execution_count": 7,
   "id": "607b20d1",
   "metadata": {},
   "outputs": [
    {
     "name": "stdout",
     "output_type": "stream",
     "text": [
      "PyThOn\n"
     ]
    }
   ],
   "source": [
    "s = \"PYTHON\"\n",
    "ss = \"\"\n",
    "for index, i in enumerate(s):\n",
    "    if index % 2 != 0:\n",
    "          ss += i.lower()\n",
    "    else:\n",
    "        ss += i\n",
    "print(ss)"
   ]
  },
  {
   "cell_type": "markdown",
   "id": "b7b71095",
   "metadata": {},
   "source": [
    "### Question_3:\n",
    "    Write a python program to convert only even indexed charecters to lower case"
   ]
  },
  {
   "cell_type": "code",
   "execution_count": 9,
   "id": "3061e30f",
   "metadata": {},
   "outputs": [
    {
     "name": "stdout",
     "output_type": "stream",
     "text": [
      "pYtHoN\n"
     ]
    }
   ],
   "source": [
    "s = \"python\"\n",
    "ss = \"\"\n",
    "for index, i in enumerate(s):\n",
    "    if index % 2 != 0:\n",
    "          ss += i.upper()\n",
    "    else:\n",
    "        ss += i\n",
    "print(ss)"
   ]
  },
  {
   "cell_type": "markdown",
   "id": "2e7b8d01",
   "metadata": {},
   "source": [
    "### Question_4:\n",
    "    Write a python to where you have different variables which contain name, age, phone no, fathers name, mothers name\n",
    "    and by using this variables create a variable named bio data where you will use all these variables"
   ]
  },
  {
   "cell_type": "code",
   "execution_count": 2,
   "id": "64b1a1e4",
   "metadata": {},
   "outputs": [
    {
     "name": "stdout",
     "output_type": "stream",
     "text": [
      "Enter your name :  Shiva Kumar\n",
      "Enter your age :  23\n",
      "Enter your phone number :  9912332199\n",
      "Enter your Father name :  Srinivas\n",
      "Enter your Mother name :  Adi Laxmi\n",
      "My name is Shiva Kumar, My age is 23, My phone number is 9912332199, My father's name is Srinivas,My mother's name is Adi Laxmi\n"
     ]
    }
   ],
   "source": [
    "Name = input(\"Enter your name :  \")\n",
    "age = int(input(\"Enter your age :  \"))\n",
    "phone_no = int(input(\"Enter your phone number :  \"))\n",
    "fathers_name = input(\"Enter your Father name :  \")\n",
    "mothers_name = input(\"Enter your Mother name :  \")\n",
    "bio_data = f\"My name is {Name}, My age is {age}, My phone number is {phone_no}, My father's name is {fathers_name},My mother's name is {mothers_name}\"\n",
    "print(bio_data)"
   ]
  },
  {
   "cell_type": "markdown",
   "id": "e014cafa",
   "metadata": {},
   "source": [
    "### Question_5:\n",
    "    Write a program to get only names from the string"
   ]
  },
  {
   "cell_type": "code",
   "execution_count": 7,
   "id": "123f9ac6",
   "metadata": {},
   "outputs": [],
   "source": [
    "email_ids = \"Ramu@gamil.com, Harish@gmail.com, Sudha@gmail.com\""
   ]
  },
  {
   "cell_type": "code",
   "execution_count": 23,
   "id": "7caeb16b",
   "metadata": {},
   "outputs": [
    {
     "data": {
      "text/plain": [
       "'Ramu, Harish, Sudha'"
      ]
     },
     "execution_count": 23,
     "metadata": {},
     "output_type": "execute_result"
    }
   ],
   "source": [
    "email_ids[0:4] + email_ids[14:22] + email_ids[32:39]  "
   ]
  },
  {
   "cell_type": "code",
   "execution_count": 30,
   "id": "a9b389d7",
   "metadata": {},
   "outputs": [
    {
     "data": {
      "text/plain": [
       "'Ramu ,Harish ,Sudha'"
      ]
     },
     "execution_count": 30,
     "metadata": {},
     "output_type": "execute_result"
    }
   ],
   "source": [
    "email_ids.partition(\"@\",)[0] + \" ,\" + email_ids.partition(\"Harish\")[1] +\" ,\" + email_ids.partition(\"Sudha\")[1]"
   ]
  },
  {
   "cell_type": "markdown",
   "id": "bfce5a7c",
   "metadata": {},
   "source": [
    "### Question_6:\n",
    "    Given a string of odd length greater than 9, return a new made up of middle three characters of the given string\n",
    "    \"mynameissan\""
   ]
  },
  {
   "cell_type": "code",
   "execution_count": 33,
   "id": "f3109bdc",
   "metadata": {},
   "outputs": [
    {
     "data": {
      "text/plain": [
       "'mei'"
      ]
     },
     "execution_count": 33,
     "metadata": {},
     "output_type": "execute_result"
    }
   ],
   "source": [
    "name = \"mynameissan\"\n",
    "new = name[4:7]\n",
    "new "
   ]
  },
  {
   "cell_type": "markdown",
   "id": "34755951",
   "metadata": {},
   "source": [
    "### Question_7:\n",
    "    Write a python program to insert a 2 string in middle of a string"
   ]
  },
  {
   "cell_type": "code",
   "execution_count": 39,
   "id": "85e9520d",
   "metadata": {},
   "outputs": [
    {
     "data": {
      "text/plain": [
       "'masyn'"
      ]
     },
     "execution_count": 39,
     "metadata": {},
     "output_type": "execute_result"
    }
   ],
   "source": [
    "ex = \"myn\"\n",
    "x = \"as\"\n",
    "ex[0] + x + ex[1:]"
   ]
  },
  {
   "cell_type": "markdown",
   "id": "2d3f535c",
   "metadata": {},
   "source": [
    "### Question_8:\n",
    "    Write a python program to remove vowels from the entire alphabets"
   ]
  },
  {
   "cell_type": "code",
   "execution_count": 2,
   "id": "ff71aa4a",
   "metadata": {},
   "outputs": [],
   "source": [
    "a = \"abcdefghijklmnopqrstuvwxyz\"\n",
    "vowels = [\"a\",\"e\",\"i\",\"o\",\"u\"]\n",
    "c = \"\""
   ]
  },
  {
   "cell_type": "code",
   "execution_count": 3,
   "id": "79b7a977",
   "metadata": {},
   "outputs": [
    {
     "name": "stdout",
     "output_type": "stream",
     "text": [
      "bcdfghjklmnpqrstvwxyz\n"
     ]
    }
   ],
   "source": [
    "for index, i in enumerate(a):\n",
    "    if i not in vowels:\n",
    "        c += i\n",
    "print(c)"
   ]
  },
  {
   "cell_type": "code",
   "execution_count": 48,
   "id": "a214acc8",
   "metadata": {},
   "outputs": [
    {
     "data": {
      "text/plain": [
       "''"
      ]
     },
     "execution_count": 48,
     "metadata": {},
     "output_type": "execute_result"
    }
   ],
   "source": []
  },
  {
   "cell_type": "code",
   "execution_count": null,
   "id": "e55cbc5e",
   "metadata": {},
   "outputs": [],
   "source": []
  }
 ],
 "metadata": {
  "kernelspec": {
   "display_name": "Python 3 (ipykernel)",
   "language": "python",
   "name": "python3"
  },
  "language_info": {
   "codemirror_mode": {
    "name": "ipython",
    "version": 3
   },
   "file_extension": ".py",
   "mimetype": "text/x-python",
   "name": "python",
   "nbconvert_exporter": "python",
   "pygments_lexer": "ipython3",
   "version": "3.11.4"
  }
 },
 "nbformat": 4,
 "nbformat_minor": 5
}
