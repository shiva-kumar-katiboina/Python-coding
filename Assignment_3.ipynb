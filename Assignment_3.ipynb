{
 "cells": [
  {
   "cell_type": "markdown",
   "id": "a4ad0699",
   "metadata": {},
   "source": [
    "### Question_1:\n",
    "    Write s program that prints all the numbers from 0 to 6 expect 3 and 6"
   ]
  },
  {
   "cell_type": "code",
   "execution_count": 11,
   "id": "772f65ba",
   "metadata": {},
   "outputs": [
    {
     "name": "stdout",
     "output_type": "stream",
     "text": [
      "0\n",
      "1\n",
      "2\n",
      "4\n",
      "5\n"
     ]
    }
   ],
   "source": [
    "for i in range(0,6):\n",
    "    if i != 3 and i != 6:\n",
    "        print(i)"
   ]
  },
  {
   "cell_type": "markdown",
   "id": "668e6463",
   "metadata": {},
   "source": [
    "### Question_2:\n",
    "    Write a program to accept a number from a user and calculate the sum of all numbers from 1 to a given number"
   ]
  },
  {
   "cell_type": "code",
   "execution_count": 3,
   "id": "5a4ba738",
   "metadata": {},
   "outputs": [],
   "source": [
    "def total():\n",
    "    x = int(input(\"Enter a number :  \"))\n",
    "    y = 0\n",
    "    for i in range(0,x+1):\n",
    "        y += i\n",
    "    print(\"The sum of all the numbers from i to the given number is : \",y)"
   ]
  },
  {
   "cell_type": "code",
   "execution_count": 4,
   "id": "2bbb33ca",
   "metadata": {},
   "outputs": [
    {
     "name": "stdout",
     "output_type": "stream",
     "text": [
      "Enter a number :  5\n",
      "The sum of all the numbers from i to the given number is :  15\n"
     ]
    }
   ],
   "source": [
    "total()"
   ]
  },
  {
   "cell_type": "code",
   "execution_count": 5,
   "id": "733e15f5",
   "metadata": {},
   "outputs": [
    {
     "name": "stdout",
     "output_type": "stream",
     "text": [
      "Enter a number :  10\n",
      "The sum of all the numbers from i to the given number is :  55\n"
     ]
    }
   ],
   "source": [
    "total()"
   ]
  },
  {
   "cell_type": "markdown",
   "id": "153cac6f",
   "metadata": {},
   "source": [
    "### Question_3:\n",
    "    write a program to print multiplication table of a given number(input)"
   ]
  },
  {
   "cell_type": "code",
   "execution_count": 19,
   "id": "c0403c8f",
   "metadata": {},
   "outputs": [],
   "source": [
    "def table():\n",
    "    x = int(input(\"Enter a number :  \"))\n",
    "    for i in range(1,11):\n",
    "        print(x , \"*\" , i ,\"=\" , x * i)"
   ]
  },
  {
   "cell_type": "code",
   "execution_count": 20,
   "id": "0c41b426",
   "metadata": {},
   "outputs": [
    {
     "name": "stdout",
     "output_type": "stream",
     "text": [
      "Enter a number :  5\n",
      "5 * 1 = 5\n",
      "5 * 2 = 10\n",
      "5 * 3 = 15\n",
      "5 * 4 = 20\n",
      "5 * 5 = 25\n",
      "5 * 6 = 30\n",
      "5 * 7 = 35\n",
      "5 * 8 = 40\n",
      "5 * 9 = 45\n",
      "5 * 10 = 50\n"
     ]
    }
   ],
   "source": [
    "table()"
   ]
  },
  {
   "cell_type": "markdown",
   "id": "bfdeff36",
   "metadata": {},
   "source": [
    "### Question_4:\n",
    "    Write a program to count the total number of digits in a number using a while loop"
   ]
  },
  {
   "cell_type": "code",
   "execution_count": 6,
   "id": "9c3afdcc",
   "metadata": {},
   "outputs": [
    {
     "name": "stdout",
     "output_type": "stream",
     "text": [
      "Enter a number :   23456543\n",
      "The number of digits in the input number is :  8\n"
     ]
    }
   ],
   "source": [
    "x = 0\n",
    "while x < 1:\n",
    "    num = int(input(\"Enter a number :   \"))\n",
    "    x += 1\n",
    "    print(\"The number of digits in the input number is : \",len(str(num)))"
   ]
  },
  {
   "cell_type": "markdown",
   "id": "eb5ec8f5",
   "metadata": {},
   "source": [
    "### Question_5:\n",
    "    Write a program to guess a number between 1 to 10"
   ]
  },
  {
   "cell_type": "code",
   "execution_count": 4,
   "id": "1fbfb633",
   "metadata": {},
   "outputs": [
    {
     "name": "stdout",
     "output_type": "stream",
     "text": [
      "Guess the number: 1\n",
      "Wrong guess, Don't worry you have another chance, Try again.\n",
      "Guess the number: 2\n",
      "Wrong guess, Don't worry you have another chance, Try again.\n",
      "Guess the number: 3\n",
      "Wrong guess, Don't worry you have another chance, Try again.\n",
      "Guess the number: 4\n",
      "Wrong guess, Don't worry you have another chance, Try again.\n",
      "Guess the number: 5\n",
      "Wrong guess, Don't worry you have another chance, Try again.\n",
      "Guess the number: 6\n",
      "Wrong guess, Don't worry you have another chance, Try again.\n",
      "Guess the number: 7\n",
      "Wrong guess, Don't worry you have another chance, Try again.\n",
      "Guess the number: 8\n",
      "Wrong guess, Don't worry you have another chance, Try again.\n",
      "Guess the number: 9\n",
      "Wrong guess, Don't worry you have another chance, Try again.\n",
      "Guess the number: 10\n",
      "Well guessed!\n"
     ]
    }
   ],
   "source": [
    "import random\n",
    "system = random.randint(1,10)\n",
    "while 1 > 0:\n",
    "    num = int(input(\"Guess the number: \"))\n",
    "    if num == system:\n",
    "        print(\"Well guessed!\")\n",
    "        break\n",
    "    else:\n",
    "        print(\"Wrong guess, Don't worry you have another chance, Try again.\")"
   ]
  },
  {
   "cell_type": "markdown",
   "id": "82fe7a67",
   "metadata": {},
   "source": [
    "### Question_6:\n",
    "    Write a program which will iterates the integers from 1 to 60. For multiples of three print \"Fizz\" instead of the number and for the five print \"Buzz\". For numbers which are multiples of both three and five print \"FizzBuzz\""
   ]
  },
  {
   "cell_type": "code",
   "execution_count": 14,
   "id": "e4977f29",
   "metadata": {},
   "outputs": [
    {
     "name": "stdout",
     "output_type": "stream",
     "text": [
      "1\n",
      "2\n",
      "Fizz\n",
      "4\n",
      "Buzz\n",
      "Fizz\n",
      "7\n",
      "8\n",
      "Fizz\n",
      "Buzz\n",
      "11\n",
      "Fizz\n",
      "13\n",
      "14\n",
      "FizzBuzz\n",
      "16\n",
      "17\n",
      "Fizz\n",
      "19\n",
      "Buzz\n",
      "Fizz\n",
      "22\n",
      "23\n",
      "Fizz\n",
      "Buzz\n",
      "26\n",
      "Fizz\n",
      "28\n",
      "29\n",
      "FizzBuzz\n",
      "31\n",
      "32\n",
      "Fizz\n",
      "34\n",
      "Buzz\n",
      "Fizz\n",
      "37\n",
      "38\n",
      "Fizz\n",
      "Buzz\n",
      "41\n",
      "Fizz\n",
      "43\n",
      "44\n",
      "FizzBuzz\n",
      "46\n",
      "47\n",
      "Fizz\n",
      "49\n",
      "Buzz\n",
      "Fizz\n",
      "52\n",
      "53\n",
      "Fizz\n",
      "Buzz\n",
      "56\n",
      "Fizz\n",
      "58\n",
      "59\n",
      "FizzBuzz\n"
     ]
    }
   ],
   "source": [
    "for i in range(1,61):\n",
    "    if i % 3 == 0:\n",
    "        if i % 3 == 0 and i % 5 == 0:\n",
    "            print(\"FizzBuzz\")\n",
    "        else:\n",
    "            print(\"Fizz\")\n",
    "    elif i % 5 == 0:\n",
    "        if i % 3 == 0 and i % 5 == 0:\n",
    "            print(\"FizzBuzz\")\n",
    "        else:\n",
    "            print(\"Buzz\")\n",
    "    else:\n",
    "        print(i)"
   ]
  },
  {
   "cell_type": "markdown",
   "id": "855223e4",
   "metadata": {},
   "source": [
    "### Question_7:\n",
    "    Write a program that accepts a string and calculate the number of digits and letters"
   ]
  },
  {
   "cell_type": "code",
   "execution_count": 7,
   "id": "1b766ab1",
   "metadata": {},
   "outputs": [
    {
     "name": "stdout",
     "output_type": "stream",
     "text": [
      "Enter alphanumeric values :  python12345\n",
      "Letters in the given input are : 6 \n",
      "Digits in the given input are : 5\n"
     ]
    }
   ],
   "source": [
    "def cal():\n",
    "    x = input(\"Enter alphanumeric values :  \")\n",
    "    y = 0 \n",
    "    a = 0\n",
    "    for i in x:\n",
    "        if i.isalpha():\n",
    "            y += 1\n",
    "        else:\n",
    "            a += 1\n",
    "    print(f\"Letters in the given input are : {y} \\nDigits in the given input are : {a}\")\n",
    "cal()"
   ]
  },
  {
   "cell_type": "markdown",
   "id": "6181ae6d",
   "metadata": {},
   "source": [
    "### Question_8:\n",
    "    Write a program to check the validity of password input by users.\n",
    "    Validation:\n",
    "        At least 1 letter between [a - z] and 1 letter between [A - Z].\n",
    "        At least 1 number from [0 - 9].\n",
    "        At least 1 character from [$#@].\n",
    "        Minimum length 6 characters.\n",
    "        Maximum length 18 characters."
   ]
  },
  {
   "cell_type": "code",
   "execution_count": 10,
   "id": "d9b179a2",
   "metadata": {},
   "outputs": [
    {
     "name": "stdout",
     "output_type": "stream",
     "text": [
      "Enter the password: Shiva123\n",
      "Password Accepted\n"
     ]
    }
   ],
   "source": [
    "password = input(\"Enter the password: \")\n",
    "if len(password) >= 8 and len(password) <= 20:\n",
    "    if password[0].isupper() or password[1].isupper() or password[2].isupper() or password[3].isupper() or password[4].isupper() or password[5].isupper() or password[6].isupper() or password[7].isupper() or password[8].isupper() or password[9].isupper()  or password[10].isupper() or password[11].isupper() or password[12].isupper() or password[13].isupper() or password[14].isupper() or password[15].isupper() or password[16].isupper() or password[17].isupper() or password[18].isupper() or password[19].isupper() or password[20].isupper():\n",
    "        if password[0].islower() or password[1].islower() or password[2].islower() or password[3].islower() or password[4].islower() or password[5].islower() or password[6].islower() or password[7].islower() or password[8].islower() or password[9].islower()  or password[10].islower() or password[11].islower() or password[12].islower() or password[13].islower() or password[14].islower() or password[15].islower() or password[16].islower() or password[17].islower() or password[18].islower() or password[19].islower() or password[20].islower():\n",
    "            if password[0].isdigit() or password[1].isdigit() or password[2].isdigit() or password[3].isdigit() or password[4].isdigit() or password[5].isdigit() or password[6].isdigit() or password[7].isdigit() or password[8].isdigit() or password[9].isdigit()  or password[10].isdigit() or password[11].isdigit() or password[12].isdigit() or password[13].isdigit() or password[14].isdigit() or password[15].isdigit() or password[16].isdigit() or password[17].isdigit() or password[18].isdigit() or password[19].isdigit() or password[20].isdigit():\n",
    "                special_chars = \"@#$\"\n",
    "                if (char in special_chars for char in password):\n",
    "                    print(\"Password Accepted\")\n",
    "                    print(password)\n",
    "            else:\n",
    "                print(\"Not Accepted\")\n",
    "        else:\n",
    "            print(\"Password should contain atleast one lower case\")\n",
    "    else:\n",
    "        print(\"Password should contain atleast one uppercase\")\n",
    "else:\n",
    "    print(\"Password should contain atleast 8 and atmost 20 characters\")"
   ]
  },
  {
   "cell_type": "markdown",
   "id": "7a35ed80",
   "metadata": {},
   "source": [
    "### Question_9:\n",
    "    Write a program which takes integer inputs from user until he/she presses \"q\" ( Ask to press q to quit after every          integer input). print average and sum of all numbers"
   ]
  },
  {
   "cell_type": "code",
   "execution_count": 24,
   "id": "9dbb5565",
   "metadata": {},
   "outputs": [
    {
     "name": "stdout",
     "output_type": "stream",
     "text": [
      "Enter 's' to start: s\n",
      "Enter the element: 1\n",
      "Enter the element: 2\n",
      "Enter the element: 3\n",
      "Enter the element: 4\n",
      "Enter the element: 5\n",
      "Enter the element: q\n",
      "Loop stopped\n",
      "The entered elements are :   [1, 2, 3, 4, 5]\n",
      "The Average is: 3.0\n",
      "The sum of the elements is: 15\n",
      "The product is :   120\n"
     ]
    }
   ],
   "source": [
    "x = []\n",
    "y = input(\"Enter 's' to start: \")\n",
    "z = 0\n",
    "product = 1\n",
    "\n",
    "while y == \"s\":\n",
    "    w = input(\"Enter the element: \")\n",
    "    if w == 'q':\n",
    "        print(\"Loop stopped\")\n",
    "        print(\"The entered elements are :  \", x)\n",
    "        break\n",
    "    \n",
    "    x.append(int(w))\n",
    "    z += int(w)\n",
    "    product *= int(w)\n",
    "if len(x) > 0:\n",
    "    average = z / len(x)\n",
    "    print(\"The Average is:\", average)\n",
    "print(\"The sum of the elements is:\", z)\n",
    "print(\"The product is :  \",product)"
   ]
  },
  {
   "cell_type": "markdown",
   "id": "49b7ad9c",
   "metadata": {},
   "source": [
    "### Question_10:\n",
    "    Write a program to remove all the digits or any other characters from the string except alphabets"
   ]
  },
  {
   "cell_type": "code",
   "execution_count": 9,
   "id": "c683aa06",
   "metadata": {},
   "outputs": [
    {
     "name": "stdout",
     "output_type": "stream",
     "text": [
      "asdasd\n"
     ]
    }
   ],
   "source": [
    "s = \"asd12.asd12\"\n",
    "a = \"\"\n",
    "for i in s:\n",
    "    if i.isalpha():\n",
    "        a += i\n",
    "print(a)"
   ]
  },
  {
   "cell_type": "code",
   "execution_count": 10,
   "id": "b2ff6544",
   "metadata": {},
   "outputs": [
    {
     "name": "stdout",
     "output_type": "stream",
     "text": [
      "zveyvgky\n"
     ]
    }
   ],
   "source": [
    "s1 = \"zveyv26744.,487,gky\"\n",
    "a = \"\"\n",
    "for i in s1:\n",
    "    if i.isalpha():\n",
    "        a += i\n",
    "print(a)"
   ]
  },
  {
   "cell_type": "markdown",
   "id": "ea41f60d",
   "metadata": {},
   "source": [
    "### Question_11:\n",
    "    Write a program to find the sum of all even numbers from 0 to 10"
   ]
  },
  {
   "cell_type": "code",
   "execution_count": 9,
   "id": "c1b7b1a7",
   "metadata": {},
   "outputs": [
    {
     "name": "stdout",
     "output_type": "stream",
     "text": [
      "20\n"
     ]
    }
   ],
   "source": [
    "a = 0\n",
    "for i in range(0,10):\n",
    "    if i % 2 == 0:\n",
    "        a += i\n",
    "print(a)"
   ]
  },
  {
   "cell_type": "markdown",
   "id": "2d9e9103",
   "metadata": {},
   "source": [
    "### Question_12:\n",
    "    Write a program which will accept a digit and print all the numbers before it till 0."
   ]
  },
  {
   "cell_type": "code",
   "execution_count": 10,
   "id": "1f5fee98",
   "metadata": {},
   "outputs": [
    {
     "name": "stdout",
     "output_type": "stream",
     "text": [
      "Enter a number :  10\n",
      "9\n",
      "8\n",
      "7\n",
      "6\n",
      "5\n",
      "4\n",
      "3\n",
      "2\n",
      "1\n",
      "0\n"
     ]
    }
   ],
   "source": [
    "num = int(input(\"Enter a number :  \"))\n",
    "for  i in range(num,0,-1):\n",
    "    i -= 1\n",
    "    print(i)"
   ]
  },
  {
   "cell_type": "markdown",
   "id": "831e3fa6",
   "metadata": {},
   "source": [
    "### Question_13:\n",
    "    Create a dynamic calculater which will run continuesly till you press \"c\""
   ]
  },
  {
   "cell_type": "code",
   "execution_count": 1,
   "id": "6a13326c",
   "metadata": {},
   "outputs": [
    {
     "name": "stdout",
     "output_type": "stream",
     "text": [
      "Enter a number :  3\n",
      "Enter the symbol of an operator :  +\n",
      "Enter another number :  8\n",
      "The sum of the given two numbers is :   11\n",
      "Enter 'c' to quit the calculator, otherwise the calculator will continue :  \n",
      "__________________________________________________\n",
      "Enter a number :  55\n",
      "Enter the symbol of an operator :  3\n",
      "Enter another number :  3\n",
      "Please enter a valid operator. The available operators are ['+', '-', '*', '/']\n",
      "Enter 'c' to quit the calculator, otherwise the calculator will continue :  c\n",
      "__________________________________________________\n"
     ]
    }
   ],
   "source": [
    "calculator = \"start\"\n",
    "while calculator != \"c\":\n",
    "    num1 = int(input(\"Enter a number :  \"))\n",
    "    operator = input(\"Enter the symbol of an operator :  \")\n",
    "    num2 = int(input(\"Enter another number :  \"))\n",
    "    operators = [\"+\" , \"-\" , \"*\" , \"/\"]\n",
    "    if operator in operators:\n",
    "        if operator == \"+\":\n",
    "            print(\"The sum of the given two numbers is :  \",num1 + num2)\n",
    "        elif operator == \"-\":\n",
    "            print(\"The difference of the given two numbers is :  \",num1 - num2)\n",
    "        elif operator == \"*\":\n",
    "            print(\"The product of the given two numbers is :  \",num1 * num2)\n",
    "        elif operator == \"/\":\n",
    "            print(\"The division of the given two numbers is :  \",num1 / num2)\n",
    "    else:\n",
    "        print(f\"Please enter a valid operator. The available operators are {operators}\")\n",
    "    calculator = input(\"Enter 'c' to quit the calculator, otherwise the calculator will continue :  \")\n",
    "    print(\"_\" * 50)\n",
    "    "
   ]
  },
  {
   "cell_type": "code",
   "execution_count": null,
   "id": "ed65a1d0",
   "metadata": {},
   "outputs": [],
   "source": []
  }
 ],
 "metadata": {
  "kernelspec": {
   "display_name": "Python 3 (ipykernel)",
   "language": "python",
   "name": "python3"
  },
  "language_info": {
   "codemirror_mode": {
    "name": "ipython",
    "version": 3
   },
   "file_extension": ".py",
   "mimetype": "text/x-python",
   "name": "python",
   "nbconvert_exporter": "python",
   "pygments_lexer": "ipython3",
   "version": "3.11.4"
  }
 },
 "nbformat": 4,
 "nbformat_minor": 5
}
