{
 "cells": [
  {
   "cell_type": "markdown",
   "id": "a4d1ff19",
   "metadata": {},
   "source": [
    "### Question_1:\n",
    "    Write a program to accept two numbers from the user and calculate multiplication and division "
   ]
  },
  {
   "cell_type": "code",
   "execution_count": 2,
   "id": "179659e5",
   "metadata": {},
   "outputs": [
    {
     "name": "stdout",
     "output_type": "stream",
     "text": [
      "Enter a number:  756895\n",
      "Enter another number:  234\n",
      "Multiplication:   177113430\n",
      "Division:   3234.594017094017\n"
     ]
    }
   ],
   "source": [
    "a = int(input(\"Enter a number:  \"))\n",
    "b = int(input(\"Enter another number:  \"))\n",
    "print(\"Multiplication:  \", a * b)\n",
    "print(\"Division:  \", a / b)"
   ]
  },
  {
   "cell_type": "markdown",
   "id": "d57b9d32",
   "metadata": {},
   "source": [
    "### Question_2:\n",
    "    Write a program to print the characters from a string that are present at am Even index"
   ]
  },
  {
   "cell_type": "code",
   "execution_count": 5,
   "id": "5ef1931e",
   "metadata": {},
   "outputs": [
    {
     "data": {
      "text/plain": [
       "'Pto savraieadwdl sdhg-ee rgamn agae'"
      ]
     },
     "execution_count": 5,
     "metadata": {},
     "output_type": "execute_result"
    }
   ],
   "source": [
    "string = \"Python is a versatile and widely used high-level programming language.\"\n",
    "string[::2]"
   ]
  },
  {
   "cell_type": "markdown",
   "id": "428ac703",
   "metadata": {},
   "source": [
    "### Question_3:\n",
    "    Write a program to print the characters from a string that are present at am Odd index"
   ]
  },
  {
   "cell_type": "code",
   "execution_count": 7,
   "id": "8af11e5f",
   "metadata": {},
   "outputs": [
    {
     "data": {
      "text/plain": [
       "'yhni  estl n ieyue ihlvlpormiglnug.'"
      ]
     },
     "execution_count": 7,
     "metadata": {},
     "output_type": "execute_result"
    }
   ],
   "source": [
    "string = \"Python is a versatile and widely used high-level programming language.\"\n",
    "string[1::2]"
   ]
  },
  {
   "cell_type": "markdown",
   "id": "817ce3fb",
   "metadata": {},
   "source": [
    "### Question_4:\n",
    "    Write a program which will print the sum of two numbers if they are Even  or it will print the\n",
    "    difference of the two numbers"
   ]
  },
  {
   "cell_type": "code",
   "execution_count": 8,
   "id": "ba7726f4",
   "metadata": {},
   "outputs": [
    {
     "name": "stdout",
     "output_type": "stream",
     "text": [
      "Enter a number:  6576\n",
      "Enter another number:  293\n",
      "The given two numbers are not even. Then the difference of two numbers is :   6283\n"
     ]
    }
   ],
   "source": [
    "x = int(input(\"Enter a number:  \"))\n",
    "y = int(input(\"Enter another number:  \")) \n",
    "if (x and y) % 2 == 0:\n",
    "    print(\"The given two numbers are even. Then the sum of two numbers is :  \",  x + y)\n",
    "else:\n",
    "    print(\"The given two numbers are not even. Then the difference of two numbers is :  \",  x - y)"
   ]
  },
  {
   "cell_type": "code",
   "execution_count": 1,
   "id": "91f3a807",
   "metadata": {},
   "outputs": [
    {
     "name": "stdout",
     "output_type": "stream",
     "text": [
      "Enter a number:  456\n",
      "Enter another number:  7654\n",
      "The given two numbers are even. Then the sum of two numbers is :   8110\n"
     ]
    }
   ],
   "source": [
    "x = int(input(\"Enter a number:  \"))\n",
    "y = int(input(\"Enter another number:  \")) \n",
    "if (x and y) % 2 == 0:\n",
    "    print(\"The given two numbers are even. Then the sum of two numbers is :  \",  x + y)\n",
    "else:\n",
    "    print(\"The given two numbers are not even. Then the difference of two numbers is :  \",  x - y)"
   ]
  },
  {
   "cell_type": "markdown",
   "id": "2cbb0ecb",
   "metadata": {},
   "source": [
    "### Question_5:\n",
    "    Write a program to convert all even indexed alphabets into upper and odd."
   ]
  },
  {
   "cell_type": "code",
   "execution_count": 9,
   "id": "73165e55",
   "metadata": {},
   "outputs": [
    {
     "name": "stdout",
     "output_type": "stream",
     "text": [
      "PyThOn pRoGrAmMiNg LAnGuAgE\n"
     ]
    }
   ],
   "source": [
    "          # To upper()\n",
    "    \n",
    "s1 = \"python programming Language\"\n",
    "s2 = \"\"\n",
    "\n",
    "for index, i in enumerate(s1):\n",
    "    if index % 2 == 0:\n",
    "        s2 += i.upper()\n",
    "    else:\n",
    "        s2 += i\n",
    "print(s2)"
   ]
  },
  {
   "cell_type": "code",
   "execution_count": 16,
   "id": "b4592e7f",
   "metadata": {},
   "outputs": [
    {
     "name": "stdout",
     "output_type": "stream",
     "text": [
      "pYtHoN PrOgRaMmInG LaNgUaGe\n"
     ]
    }
   ],
   "source": [
    "          # To lower()\n",
    "    \n",
    "s1 = \"PYTHON PROGRAMMING LANGUAGE\"\n",
    "s2 = \"\"\n",
    "\n",
    "for index, i in enumerate(s1):\n",
    "    if index % 2 == 0:\n",
    "        s2 += i.lower()\n",
    "    else:\n",
    "        s2 += i\n",
    "print(s2)"
   ]
  },
  {
   "cell_type": "markdown",
   "id": "b1d366bd",
   "metadata": {},
   "source": [
    "### Question_6:\n",
    "    Write a program which will print True if the input number is divisible 5 or else False"
   ]
  },
  {
   "cell_type": "code",
   "execution_count": 4,
   "id": "8f93f277",
   "metadata": {},
   "outputs": [
    {
     "name": "stdout",
     "output_type": "stream",
     "text": [
      "Enter a number:  123442\n",
      "False\n"
     ]
    }
   ],
   "source": [
    "x = int(input(\"Enter a number:  \"))\n",
    "if x % 5 == 0:\n",
    "    print(True)\n",
    "else:\n",
    "    print(False)"
   ]
  },
  {
   "cell_type": "code",
   "execution_count": 5,
   "id": "aa9d516f",
   "metadata": {},
   "outputs": [
    {
     "name": "stdout",
     "output_type": "stream",
     "text": [
      "Enter a number:  23484655\n",
      "True\n"
     ]
    }
   ],
   "source": [
    "x = int(input(\"Enter a number:  \"))\n",
    "if x % 5 == 0:\n",
    "    print(True)\n",
    "else:\n",
    "    print(False)"
   ]
  },
  {
   "cell_type": "markdown",
   "id": "f438bf1c",
   "metadata": {},
   "source": [
    "### Question_7:\n",
    "    Given two integer numbers return their product only if the product greater than 1000, else return their sum"
   ]
  },
  {
   "cell_type": "code",
   "execution_count": 7,
   "id": "8f5406b0",
   "metadata": {},
   "outputs": [
    {
     "name": "stdout",
     "output_type": "stream",
     "text": [
      "Enter a number:  234\n",
      "Enter another number:  9999\n",
      "10233\n"
     ]
    }
   ],
   "source": [
    "            # sum\n",
    "\n",
    "a = int(input(\"Enter a number:  \"))\n",
    "b = int(input(\"Enter another number:  \"))\n",
    "if a  > 1000 and b > 1000:\n",
    "    print(a * b)\n",
    "else:\n",
    "    print(a + b)"
   ]
  },
  {
   "cell_type": "code",
   "execution_count": 9,
   "id": "4a936405",
   "metadata": {},
   "outputs": [
    {
     "name": "stdout",
     "output_type": "stream",
     "text": [
      "Enter a number:  2234\n",
      "Enter another number:  6574\n",
      "14686316\n"
     ]
    }
   ],
   "source": [
    "        # product\n",
    "\n",
    "a = int(input(\"Enter a number:  \"))\n",
    "b = int(input(\"Enter another number:  \"))\n",
    "if a  > 1000 and b > 1000:\n",
    "    print(a * b)\n",
    "else:\n",
    "    print(a + b)"
   ]
  },
  {
   "cell_type": "markdown",
   "id": "17b0ca1e",
   "metadata": {},
   "source": [
    "### Question_8:\n",
    "    Given two strings x, y writes a program to return a new string made of x and y's first, middile and last characters"
   ]
  },
  {
   "cell_type": "code",
   "execution_count": 6,
   "id": "b5ec2862",
   "metadata": {},
   "outputs": [
    {
     "name": "stdout",
     "output_type": "stream",
     "text": [
      "Enter a string :  java\n",
      "Enter a string :  python\n"
     ]
    },
    {
     "data": {
      "text/plain": [
       "'jpvhan'"
      ]
     },
     "execution_count": 6,
     "metadata": {},
     "output_type": "execute_result"
    }
   ],
   "source": [
    "x = input(\"Enter a string :  \")\n",
    "y = input(\"Enter a string :  \")\n",
    "z = \"\"\n",
    "x[0] + y[0] + x[(len(x)//2)] + y[(len(y)//2)] + x[(len(x)-1)] + y[(len(y)-1)]"
   ]
  },
  {
   "cell_type": "markdown",
   "id": "1577948e",
   "metadata": {},
   "source": [
    "### Question_9:\n",
    "    Write a program to take three names as input from a user in single input()"
   ]
  },
  {
   "cell_type": "code",
   "execution_count": 35,
   "id": "18c6178b",
   "metadata": {},
   "outputs": [],
   "source": [
    "def inputs():\n",
    "    x = input(\"Enter first name: \")\n",
    "    y = input(\"Enter second name: \")\n",
    "    z = input(\"Enter thirs name: \")\n",
    "    print(x + \" \" + y + \" \" + z)\n",
    "inputs()"
   ]
  },
  {
   "cell_type": "code",
   "execution_count": 1,
   "id": "e070613b",
   "metadata": {},
   "outputs": [
    {
     "name": "stdout",
     "output_type": "stream",
     "text": [
      "Enter three names separated by spaces(' ') :  ramesh suresh rajesh\n",
      "Name 1 :  ramesh \n",
      "Name 2 :  suresh \n",
      "Name 2 :  rajesh \n"
     ]
    }
   ],
   "source": [
    "            # or \n",
    "x = input(\"Enter three names separated by spaces(' ') :  \")\n",
    "print(f\"Name 1 :  {x.split()[0]} \\nName 2 :  {x.split()[1]} \\nName 2 :  {x.split()[2]} \")"
   ]
  },
  {
   "cell_type": "code",
   "execution_count": 2,
   "id": "e82744da",
   "metadata": {},
   "outputs": [
    {
     "name": "stdout",
     "output_type": "stream",
     "text": [
      "Enter three names separated by commas(',') :  pramod, prem kumar, nikil\n",
      "Name 1 :  pramod \n",
      "Name 2 :   prem kumar \n",
      "Name 2 :   nikil \n"
     ]
    }
   ],
   "source": [
    "            # or \n",
    "x = input(\"Enter three names separated by commas(',') :  \")\n",
    "print(f\"Name 1 :  {x.split(',')[0]} \\nName 2 :  {x.split(',')[1]} \\nName 2 :  {x.split(',')[2]} \")"
   ]
  },
  {
   "cell_type": "markdown",
   "id": "ccb35723",
   "metadata": {},
   "source": [
    "### Question_10:\n",
    "    Write a program to get a string from a given string where all occurrences of its first char have been changed to \"@\",       excpet the first itself"
   ]
  },
  {
   "cell_type": "code",
   "execution_count": 28,
   "id": "d7e4574d",
   "metadata": {},
   "outputs": [
    {
     "data": {
      "text/plain": [
       "'malayala@'"
      ]
     },
     "execution_count": 28,
     "metadata": {},
     "output_type": "execute_result"
    }
   ],
   "source": [
    "i = \"malayalam\"\n",
    "i[0]+(i[1:]).replace(\"m\",\"@\")"
   ]
  },
  {
   "cell_type": "code",
   "execution_count": 29,
   "id": "8287f896",
   "metadata": {},
   "outputs": [
    {
     "data": {
      "text/plain": [
       "'abc@bc@bc@b@'"
      ]
     },
     "execution_count": 29,
     "metadata": {},
     "output_type": "execute_result"
    }
   ],
   "source": [
    "x = \"abcabcabcaba\"\n",
    "x[0]+(x[1:]).replace(\"a\",\"@\")"
   ]
  },
  {
   "cell_type": "markdown",
   "id": "78e7f37e",
   "metadata": {},
   "source": [
    "### Question_11:\n",
    "    Write a program to add 'ing' at the end of a given string(string length should be equal to or more than 3). If the         given string already ends with 'ing' then add 'ly' instead. If the length of the given string is less than 3, leave it     unchanged."
   ]
  },
  {
   "cell_type": "code",
   "execution_count": 74,
   "id": "a3addcdd",
   "metadata": {},
   "outputs": [
    {
     "name": "stdout",
     "output_type": "stream",
     "text": [
      "playly\n"
     ]
    }
   ],
   "source": [
    "def modify(a):\n",
    "    if len(a) < 3:\n",
    "        print(a)\n",
    "    elif a.endswith(\"ing\"):\n",
    "        print(a.replace('ing',\"ly\"))\n",
    "    else:\n",
    "        print(a + \"ing\") \n",
    "modify(\"playing\")"
   ]
  },
  {
   "cell_type": "code",
   "execution_count": 75,
   "id": "c8760bdb",
   "metadata": {},
   "outputs": [
    {
     "name": "stdout",
     "output_type": "stream",
     "text": [
      "on\n"
     ]
    }
   ],
   "source": [
    "modify('on')"
   ]
  },
  {
   "cell_type": "markdown",
   "id": "9e9dca3f",
   "metadata": {},
   "source": [
    "### Question_12:\n",
    "    Write a program that accepts two inputs num1 and num2, print True if one of them is 10 or if their sum is 10 otherwise print false"
   ]
  },
  {
   "cell_type": "code",
   "execution_count": 81,
   "id": "af1133f3",
   "metadata": {},
   "outputs": [],
   "source": [
    "def num():\n",
    "    num1 = int(input(\"Enter a number:  \"))\n",
    "    num2 = int(input(\"Enter another number:  \"))\n",
    "    if num1 == 10 or num2 == 10:\n",
    "        print(True)\n",
    "    elif num1 + num2 == 10:\n",
    "        print(True)\n",
    "    else:\n",
    "        print(False)"
   ]
  },
  {
   "cell_type": "code",
   "execution_count": 82,
   "id": "43f34108",
   "metadata": {},
   "outputs": [
    {
     "name": "stdout",
     "output_type": "stream",
     "text": [
      "Enter a number:  5\n",
      "Enter another number:  5\n",
      "True\n"
     ]
    }
   ],
   "source": [
    "num()"
   ]
  },
  {
   "cell_type": "code",
   "execution_count": 83,
   "id": "8fcfeca3",
   "metadata": {},
   "outputs": [
    {
     "name": "stdout",
     "output_type": "stream",
     "text": [
      "Enter a number:  10\n",
      "Enter another number:  11\n",
      "True\n"
     ]
    }
   ],
   "source": [
    "num()"
   ]
  },
  {
   "cell_type": "code",
   "execution_count": 84,
   "id": "b3ed0277",
   "metadata": {},
   "outputs": [
    {
     "name": "stdout",
     "output_type": "stream",
     "text": [
      "Enter a number:  11\n",
      "Enter another number:  23\n",
      "False\n"
     ]
    }
   ],
   "source": [
    "num()"
   ]
  },
  {
   "cell_type": "markdown",
   "id": "bbea2756",
   "metadata": {},
   "source": [
    "### Question_13:\n",
    "    Write a program that accepts three inputs x, y and z, print True if     x * y > z otherwise False"
   ]
  },
  {
   "cell_type": "code",
   "execution_count": 86,
   "id": "d66720e0",
   "metadata": {},
   "outputs": [],
   "source": [
    "def mul():\n",
    "    x = int(input(\"Enter a number:  \"))\n",
    "    y = int(input(\"Enter a number:  \"))\n",
    "    z = int(input(\"Enter a number:  \"))\n",
    "    if (x * y) > z :\n",
    "        print(True)\n",
    "    else:\n",
    "        print(False)"
   ]
  },
  {
   "cell_type": "code",
   "execution_count": 87,
   "id": "a802669c",
   "metadata": {},
   "outputs": [
    {
     "name": "stdout",
     "output_type": "stream",
     "text": [
      "Enter a number:  2\n",
      "Enter a number:  3\n",
      "Enter a number:  6\n",
      "False\n"
     ]
    }
   ],
   "source": [
    "mul()"
   ]
  },
  {
   "cell_type": "code",
   "execution_count": 88,
   "id": "9f654385",
   "metadata": {},
   "outputs": [
    {
     "name": "stdout",
     "output_type": "stream",
     "text": [
      "Enter a number:  3\n",
      "Enter a number:  4\n",
      "Enter a number:  6\n",
      "True\n"
     ]
    }
   ],
   "source": [
    "mul()"
   ]
  },
  {
   "cell_type": "code",
   "execution_count": 89,
   "id": "adef2678",
   "metadata": {},
   "outputs": [
    {
     "name": "stdout",
     "output_type": "stream",
     "text": [
      "Enter a number:  2\n",
      "Enter a number:  3\n",
      "Enter a number:  7\n",
      "False\n"
     ]
    }
   ],
   "source": [
    "mul()"
   ]
  },
  {
   "cell_type": "markdown",
   "id": "7ca04a0f",
   "metadata": {},
   "source": [
    "### Question_14:\n",
    "    Write a program that accepts two string inputs retuen True depending on whether the total number of characters in the      first string is equal to the total number of characters in the second string"
   ]
  },
  {
   "cell_type": "code",
   "execution_count": 91,
   "id": "1746b8f8",
   "metadata": {},
   "outputs": [],
   "source": [
    "def total():\n",
    "    x = input(\"Enter a string:  \")\n",
    "    y = input(\"Enter a string:  \")\n",
    "    if len(x) == len(y):\n",
    "        return(True)\n",
    "    else:\n",
    "        print(False)"
   ]
  },
  {
   "cell_type": "code",
   "execution_count": 92,
   "id": "9c85889c",
   "metadata": {},
   "outputs": [
    {
     "name": "stdout",
     "output_type": "stream",
     "text": [
      "Enter a string:  string1\n",
      "Enter a string:  string2\n"
     ]
    },
    {
     "data": {
      "text/plain": [
       "True"
      ]
     },
     "execution_count": 92,
     "metadata": {},
     "output_type": "execute_result"
    }
   ],
   "source": [
    "total()"
   ]
  },
  {
   "cell_type": "markdown",
   "id": "d571050e",
   "metadata": {},
   "source": [
    "### Question_15:\n",
    "    Write a program that takes a string input, we'll say that the front is the first three characters of the string. If the string length is less than three characters, the front is whatever is there. Return a new string, which is three copies of the front"
   ]
  },
  {
   "cell_type": "code",
   "execution_count": 94,
   "id": "8a538d23",
   "metadata": {},
   "outputs": [],
   "source": [
    "def front():\n",
    "    front = input(\"Enter a string :   \")\n",
    "    if len(front) < 3:\n",
    "        return(front * 3)\n",
    "    else:\n",
    "        return(front[0:3] * 3)"
   ]
  },
  {
   "cell_type": "code",
   "execution_count": 95,
   "id": "9305c29d",
   "metadata": {},
   "outputs": [
    {
     "name": "stdout",
     "output_type": "stream",
     "text": [
      "Enter a string :   string\n"
     ]
    },
    {
     "data": {
      "text/plain": [
       "'strstrstr'"
      ]
     },
     "execution_count": 95,
     "metadata": {},
     "output_type": "execute_result"
    }
   ],
   "source": [
    "front()"
   ]
  },
  {
   "cell_type": "code",
   "execution_count": 96,
   "id": "972a0584",
   "metadata": {},
   "outputs": [
    {
     "name": "stdout",
     "output_type": "stream",
     "text": [
      "Enter a string :   yes\n"
     ]
    },
    {
     "data": {
      "text/plain": [
       "'yesyesyes'"
      ]
     },
     "execution_count": 96,
     "metadata": {},
     "output_type": "execute_result"
    }
   ],
   "source": [
    "front()"
   ]
  },
  {
   "cell_type": "code",
   "execution_count": null,
   "id": "ec2b113f",
   "metadata": {},
   "outputs": [],
   "source": []
  }
 ],
 "metadata": {
  "kernelspec": {
   "display_name": "Python 3 (ipykernel)",
   "language": "python",
   "name": "python3"
  },
  "language_info": {
   "codemirror_mode": {
    "name": "ipython",
    "version": 3
   },
   "file_extension": ".py",
   "mimetype": "text/x-python",
   "name": "python",
   "nbconvert_exporter": "python",
   "pygments_lexer": "ipython3",
   "version": "3.11.4"
  }
 },
 "nbformat": 4,
 "nbformat_minor": 5
}
