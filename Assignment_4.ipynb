{
 "cells": [
  {
   "cell_type": "markdown",
   "id": "c1be64d1",
   "metadata": {},
   "source": [
    "### Question_1:\n",
    "    Write a program to loop through all the elements in a list"
   ]
  },
  {
   "cell_type": "code",
   "execution_count": 1,
   "id": "bbc8ef16",
   "metadata": {},
   "outputs": [
    {
     "name": "stdout",
     "output_type": "stream",
     "text": [
      "1\n",
      "2\n",
      "3\n",
      "4\n",
      "5\n",
      "6\n"
     ]
    }
   ],
   "source": [
    "n = [1,2,3,4,5,6]\n",
    "for i in n:\n",
    "    print(i)"
   ]
  },
  {
   "cell_type": "markdown",
   "id": "ea9ec4d3",
   "metadata": {},
   "source": [
    "### Question_2:\n",
    "    Write a program where you will ask the users to insert elements in a list "
   ]
  },
  {
   "cell_type": "code",
   "execution_count": 4,
   "id": "2398a03c",
   "metadata": {},
   "outputs": [
    {
     "name": "stdout",
     "output_type": "stream",
     "text": [
      "Enter the elements: 5\n",
      "Value = 6\n",
      "Value = 7\n",
      "Value = 8\n",
      "Value = 99\n",
      "Value = 0\n"
     ]
    },
    {
     "data": {
      "text/plain": [
       "[6, 7, 8, 99, 0]"
      ]
     },
     "execution_count": 4,
     "metadata": {},
     "output_type": "execute_result"
    }
   ],
   "source": [
    "a = []\n",
    "n = int(input(\"Enter the elements: \"))\n",
    "for i in range(n):\n",
    "    a.append(int(input(\"Value = \")))\n",
    "a"
   ]
  },
  {
   "cell_type": "markdown",
   "id": "87ce3cef",
   "metadata": {},
   "source": [
    "### Question_3:\n",
    "    Write a program to remove all the odd indexed values from a list and only even indexed values should remain"
   ]
  },
  {
   "cell_type": "code",
   "execution_count": 1,
   "id": "bb17afa6",
   "metadata": {},
   "outputs": [
    {
     "name": "stdout",
     "output_type": "stream",
     "text": [
      "[2, 4, 63]\n"
     ]
    }
   ],
   "source": [
    "a = [2,3,4,5,63,33]\n",
    "b = []\n",
    "for i in range(0,len(a)):\n",
    "    if i % 2 == 0:\n",
    "        b.append(a[i])\n",
    "print(b)"
   ]
  },
  {
   "cell_type": "markdown",
   "id": "1d7df628",
   "metadata": {},
   "source": [
    "### Question_4:\n",
    "    Write a program to sum and multiply all the elements in a list."
   ]
  },
  {
   "cell_type": "code",
   "execution_count": 54,
   "id": "a4c9abdd",
   "metadata": {},
   "outputs": [
    {
     "name": "stdout",
     "output_type": "stream",
     "text": [
      "Sum of all the elements in a list is : 28\n",
      "Product of all the elements in a list is : 5040\n"
     ]
    }
   ],
   "source": [
    "a = [1,2,3,4,5,6,7]\n",
    "b = 0\n",
    "c = 1\n",
    "for i in a:\n",
    "    b += i\n",
    "print(f\"Sum of all the elements in a list is : {b}\")\n",
    "for i in a:\n",
    "    c *= i\n",
    "print(f\"Product of all the elements in a list is : {c}\")"
   ]
  },
  {
   "cell_type": "markdown",
   "id": "883f1570",
   "metadata": {},
   "source": [
    "### Question_5:\n",
    "    Write a program to print the maximum and minimum numbers from a list."
   ]
  },
  {
   "cell_type": "code",
   "execution_count": 18,
   "id": "596ad986",
   "metadata": {},
   "outputs": [
    {
     "name": "stdout",
     "output_type": "stream",
     "text": [
      "The Maximum number is : 1009\n",
      "The Minimum number is : -567\n"
     ]
    }
   ],
   "source": [
    "l = [44,2,3,67,-2,-56,9,0-567,1009]\n",
    "print(f\"The Maximum number is : {max(l)}\")\n",
    "print(f\"The Minimum number is : {min(l)}\")"
   ]
  },
  {
   "cell_type": "markdown",
   "id": "77e5f132",
   "metadata": {},
   "source": [
    "### Question_6:\n",
    "    Write a program to print a specified list after removing the 0th, 4th, 5th elements."
   ]
  },
  {
   "cell_type": "code",
   "execution_count": 41,
   "id": "d539084c",
   "metadata": {},
   "outputs": [
    {
     "name": "stdout",
     "output_type": "stream",
     "text": [
      "['b', 'c', 'd']\n"
     ]
    }
   ],
   "source": [
    "l1 = [\"a\",\"b\",\"c\",\"d\",\"e\",\"f\"]\n",
    "a = [0,4,5]\n",
    "l2 = []\n",
    "for i in range(len(l)):\n",
    "    if i not in a:\n",
    "        l2.append(l1[i])\n",
    "print(l2)"
   ]
  },
  {
   "cell_type": "code",
   "execution_count": 46,
   "id": "c42c6eac",
   "metadata": {},
   "outputs": [
    {
     "name": "stdout",
     "output_type": "stream",
     "text": [
      "['Green', 'White', 'Black']\n"
     ]
    }
   ],
   "source": [
    "colours = [\"Red\",\"Green\",\"White\",\"Black\",\"Pink\",\"Yellow\"]\n",
    "a = [0,4,5]\n",
    "new_list = []\n",
    "for i in range(len(colours)):\n",
    "    if i not in a:\n",
    "        new_list.append(colours[i])\n",
    "print(new_list)"
   ]
  },
  {
   "cell_type": "markdown",
   "id": "6e34277d",
   "metadata": {},
   "source": [
    "### Question_7:\n",
    "    Write a program to convert a list of characters into a string."
   ]
  },
  {
   "cell_type": "code",
   "execution_count": 9,
   "id": "b933455d",
   "metadata": {},
   "outputs": [
    {
     "name": "stdout",
     "output_type": "stream",
     "text": [
      "abcdef\n"
     ]
    }
   ],
   "source": [
    "l = [\"a\",\"b\",\"c\",\"d\",\"e\",\"f\"]\n",
    "a = \"\"\n",
    "for i in l:\n",
    "    a += i\n",
    "print(a)"
   ]
  },
  {
   "cell_type": "markdown",
   "id": "bc957711",
   "metadata": {},
   "source": [
    "### Question_8:\n",
    "    Write a program to compute average of the given lists"
   ]
  },
  {
   "cell_type": "code",
   "execution_count": 55,
   "id": "c9d7673c",
   "metadata": {},
   "outputs": [
    {
     "name": "stdout",
     "output_type": "stream",
     "text": [
      "4.0\n"
     ]
    }
   ],
   "source": [
    "a = [1,2,3,4,5,6,7]\n",
    "s = 0\n",
    "for i in a:\n",
    "    s+=i\n",
    "print(s/len(a))"
   ]
  },
  {
   "cell_type": "code",
   "execution_count": 65,
   "id": "1a28308a",
   "metadata": {},
   "outputs": [],
   "source": [
    "def avg():\n",
    "    x = int(input(\"Enter the lenth of the list :  \"))\n",
    "    y = []\n",
    "    for i in range(x):\n",
    "        y.append(int(input(\"Enter a number :  \")))\n",
    "    print(y)\n",
    "    \n",
    "    s = 0\n",
    "    for i in y:\n",
    "        s+=i\n",
    "    print(f\"The average of the given list is :  {s/len(y)}\")"
   ]
  },
  {
   "cell_type": "code",
   "execution_count": 66,
   "id": "07e0c821",
   "metadata": {},
   "outputs": [
    {
     "name": "stdout",
     "output_type": "stream",
     "text": [
      "Enter the lenth of the list :  5\n",
      "Enter a number :  2\n",
      "Enter a number :  4\n",
      "Enter a number :  6\n",
      "Enter a number :  8\n",
      "Enter a number :  10\n",
      "[2, 4, 6, 8, 10]\n",
      "The average of the given list is :  6.0\n"
     ]
    }
   ],
   "source": [
    "avg()"
   ]
  },
  {
   "cell_type": "markdown",
   "id": "825cc125",
   "metadata": {},
   "source": [
    "### Question_9:\n",
    "    Write a program to count the integer in a given mixed list."
   ]
  },
  {
   "cell_type": "code",
   "execution_count": 2,
   "id": "a4c05186",
   "metadata": {},
   "outputs": [
    {
     "name": "stdout",
     "output_type": "stream",
     "text": [
      "Number of integers in the above list are : \n",
      "3\n"
     ]
    }
   ],
   "source": [
    "a = [10,\"10\",5,3,3.4,3+4j,\"a\"]\n",
    "count = 0\n",
    "for i in a:\n",
    "    if type(i) == int:\n",
    "        count+=1\n",
    "print(f\"Number of integers in the above list are : \\n{count}\")"
   ]
  },
  {
   "cell_type": "markdown",
   "id": "fd485ad6",
   "metadata": {},
   "source": [
    "### Question_10:\n",
    "    Write a program to reverse a list."
   ]
  },
  {
   "cell_type": "code",
   "execution_count": 85,
   "id": "f13308a1",
   "metadata": {},
   "outputs": [
    {
     "data": {
      "text/plain": [
       "['f', 'e', 'd', 'c', 'b', 'a']"
      ]
     },
     "execution_count": 85,
     "metadata": {},
     "output_type": "execute_result"
    }
   ],
   "source": [
    "r = [\"a\",\"b\",\"c\",\"d\",\"e\",\"f\"]\n",
    "reversed_list = []\n",
    "for i in range((len(r)-1),-1,-1):\n",
    "    reversed_list.append(r[i])\n",
    "reversed_list"
   ]
  },
  {
   "cell_type": "markdown",
   "id": "6076971a",
   "metadata": {},
   "source": [
    "### Question_11:\n",
    "    Write a program to convert the given string into tuple."
   ]
  },
  {
   "cell_type": "code",
   "execution_count": 86,
   "id": "9adc5a32",
   "metadata": {},
   "outputs": [
    {
     "data": {
      "text/plain": [
       "('p', 'y', 't', 'h', 'o', 'n', '1', '.', '2')"
      ]
     },
     "execution_count": 86,
     "metadata": {},
     "output_type": "execute_result"
    }
   ],
   "source": [
    "string = \"python1.2\"\n",
    "tuple(string)"
   ]
  },
  {
   "cell_type": "code",
   "execution_count": null,
   "id": "5f57e6d7",
   "metadata": {},
   "outputs": [],
   "source": []
  }
 ],
 "metadata": {
  "kernelspec": {
   "display_name": "Python 3 (ipykernel)",
   "language": "python",
   "name": "python3"
  },
  "language_info": {
   "codemirror_mode": {
    "name": "ipython",
    "version": 3
   },
   "file_extension": ".py",
   "mimetype": "text/x-python",
   "name": "python",
   "nbconvert_exporter": "python",
   "pygments_lexer": "ipython3",
   "version": "3.11.4"
  }
 },
 "nbformat": 4,
 "nbformat_minor": 5
}
